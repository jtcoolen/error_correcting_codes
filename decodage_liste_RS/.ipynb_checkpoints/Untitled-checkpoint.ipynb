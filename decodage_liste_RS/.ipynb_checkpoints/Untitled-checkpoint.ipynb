{
 "cells": [
  {
   "cell_type": "code",
   "execution_count": 2,
   "id": "7f0254bb-6c40-4e63-b518-36258eef08c3",
   "metadata": {},
   "outputs": [
    {
     "ename": "SyntaxError",
     "evalue": "invalid syntax (3140240724.py, line 61)",
     "output_type": "error",
     "traceback": [
      "\u001b[0;36m  Input \u001b[0;32mIn [2]\u001b[0;36m\u001b[0m\n\u001b[0;31m    PF.<x,y> = M.base_ring()[]\u001b[0m\n\u001b[0m       ^\u001b[0m\n\u001b[0;31mSyntaxError\u001b[0m\u001b[0;31m:\u001b[0m invalid syntax\n"
     ]
    }
   ],
   "source": [
    "def gs_monomial_list(maxdeg, l, wy):\n",
    "    \"\"\"Return a list of the (x,y) powers of all monomials in F[x,y] whose\n",
    "    (1,wy)-weighted degree is less than maxdeg and whose y-degree <= l.\"\"\"\n",
    "    mons = []\n",
    "    for y in range(0, l+1):\n",
    "        for x in range(0,  ceil(maxdeg - y*wy)):\n",
    "            mons.append((x, y))\n",
    "    return mons\n",
    "\n",
    "def gs_interpol_matrix_by_mons(points, s, mons):\n",
    "    \"\"\"Return the interpolation matrix whose nullspace gives the coefficients\n",
    "    for all interpolation polynomials, given the list of monomials allowed. The\n",
    "    ith column will be the coefficients on the ith monomial in mons.\"\"\"\n",
    "    n = len(points)\n",
    "    def eqs_affine(x0,y0):\n",
    "        \"\"\"Make equation for the affine point x0, y0. Return a list of\n",
    "        equations, each equation being a list of coefficients corresponding to\n",
    "        the monomials in mons.\"\"\"\n",
    "        eqs = []\n",
    "        for i in range(0, s):\n",
    "            for j in range(0, s-i):\n",
    "                eq = dict()\n",
    "                for mon in mons:\n",
    "                    ihat = mon[0]\n",
    "                    jhat = mon[1]\n",
    "                    if ihat >= i and jhat >= j:\n",
    "                        icoeff = binomial(ihat, i)*x0^(ihat-i) \\\n",
    "                                    if ihat > i else 1\n",
    "                        jcoeff = binomial(jhat, j)*(y0^(jhat-j)) \\\n",
    "                                    if jhat > j else 1\n",
    "                        eq[mon] = jcoeff*icoeff\n",
    "                eqs.append([eq.get(mon, 0) for mon in mons])\n",
    "        return eqs\n",
    "    return flatten_once([ eqs_affine(*point) for point in points ])\n",
    "\n",
    "def gs_interpol_matrix_problem(points, tau, s_l, wy):\n",
    "    \"\"\"Return the linear system of equations which Q should be a solution to.\n",
    "    Returns a matrix M and a list of monomials mons, where a vector in the\n",
    "    right nullspace of M corresponds to an interpolation polynomial $Q$, by the\n",
    "    $i$'th element being the coefficient of the $i$'th monomial in mons of\n",
    "    $Q$.\"\"\"\n",
    "    (s, l) = s_l\n",
    "    mons = gs_monomial_list((len(points)-tau)*s, l, wy)\n",
    "    M = matrix(list(gs_interpol_matrix_by_mons(points, s, mons)))\n",
    "    return (M, mons)\n",
    "\n",
    "def gs_construct_Q_from_matrix(M, mons):\n",
    "    \"\"\"Given the interpolation matrix problem and the corresponding list of\n",
    "    monomials, return a satisfactory Q polynomial.\"\"\"\n",
    "    if M.nrows() >= M.ncols():\n",
    "        raise Exception(\"More rows than columns! Bailing\")\n",
    "    Sp = M.right_kernel()\n",
    "    sol = Sp.an_element()\n",
    "    #TODO: Option to pick out minimal element?\n",
    "    while sol.is_zero():\n",
    "        print(\"rat_construct_Q: Found zero as random element. Trying again.\")\n",
    "        # Picking out e.g. element 1 directly seems to run into an infinite\n",
    "        # loop for large matrices.\n",
    "        sol = Sp.random_element()\n",
    "    # Construct the Q polynomial\n",
    "    PF.<x,y> = M.base_ring()[]\n",
    "    Q = sum([ x^mons[i][0]*y^mons[i][1]*sol[i] for i in range(0, len(mons)) ])\n",
    "    return Q\n",
    "\n",
    "def gs_construct_Q_linalg(points, tau, s_l, wy):\n",
    "    \"\"\"Calculate an interpolation polynomial Q(x,y) for the parameters\n",
    "    given by solving a linear system of equations.\n",
    "    points is a list of tuples (xi,yi) such that Q(xi,yi) = 0 with multiplicity\n",
    "    s.\n",
    "    Shorthand for calling\n",
    "    gs_construct_Q_from_matrix(*gs_interpol_matrix_problem(...))\n",
    "    \"\"\"\n",
    "    (s, l) = s_l\n",
    "    return gs_construct_Q_from_matrix(\n",
    "                *gs_interpol_matrix_problem(points, tau, (s,l), wy))\n",
    "\n"
   ]
  }
 ],
 "metadata": {
  "kernelspec": {
   "display_name": "SageMath 9.0",
   "language": "sage",
   "name": "sagemath"
  },
  "language_info": {
   "codemirror_mode": {
    "name": "ipython",
    "version": 3
   },
   "file_extension": ".py",
   "mimetype": "text/x-python",
   "name": "python",
   "nbconvert_exporter": "python",
   "pygments_lexer": "ipython3",
   "version": "3.8.10"
  }
 },
 "nbformat": 4,
 "nbformat_minor": 5
}
