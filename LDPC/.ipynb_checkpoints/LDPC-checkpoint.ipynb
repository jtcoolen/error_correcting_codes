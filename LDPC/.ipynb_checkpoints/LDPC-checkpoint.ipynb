{
 "cells": [
  {
   "cell_type": "code",
   "execution_count": 1,
   "metadata": {},
   "outputs": [],
   "source": [
    "def vector_nonzero_ith_component(length, i, e, f):\n",
    "    x = zero_vector(f, length)\n",
    "    x[i] = e\n",
    "    return x\n",
    "\n",
    "def inf(L):\n",
    "    m = L[0]\n",
    "    for i in range(1, len(L)):\n",
    "        if L[i] < m:\n",
    "            m = L[i]\n",
    "    return m\n",
    "\n",
    "def f(H, y, i):\n",
    "    n = y.length()\n",
    "    canonic_base_vec = lambda i:  vector_nonzero_ith_component(n, i, 1, y.base_ring())\n",
    "    w = (H * (y + canonic_base_vec(i))).hamming_weight()\n",
    "    return w == inf([(H * (y + canonic_base_vec(j))).hamming_weight() for j in range(n)]) # and (H * y).hamming_weight() == w)\n",
    "\n",
    "def invert(y):\n",
    "    y_ = y\n",
    "    for i in range(y.length()):\n",
    "        y_[i] += 1\n",
    "    return y_\n",
    "\n",
    "def BitFlippingDecoding(H, y, maxiter=200):\n",
    "    n = y.length()\n",
    "    for _ in range(maxiter - 1):\n",
    "        \n",
    "        y_tmp = y\n",
    "        for i in range(n):\n",
    "            if f(H, y, i):\n",
    "                #print(\"ok\")\n",
    "                y_tmp[i] = y_tmp[i]+1\n",
    "        y = y_tmp\n",
    "        \n",
    "        if (H * (y)) == 0:\n",
    "            return invert(y)\n",
    "        \n",
    "    return None\n",
    "\n",
    "def decode(H, c):\n",
    "    while True:\n",
    "        s = (H*c).hamming_weight()\n",
    "        #print(\"Starting weight {}\", s)\n",
    "        if s == 0:\n",
    "            break\n",
    "        best = None\n",
    "        c_tmp = c\n",
    "        for i in range(c.length()):\n",
    "            c_tmp[i] = c[i]+1\n",
    "            s1 = (H*c).hamming_weight()\n",
    "            \n",
    "            if s1 < s:\n",
    "                best = i\n",
    "                s = s1\n",
    "            c_tmp[i] = c[i]+1\n",
    "        #print(\"Improving syndrome weight to {} with {}\", s, best)\n",
    "        if best == None:\n",
    "            break\n",
    "        c[best] = c_tmp[best]+1\n",
    "    return c\n"
   ]
  },
  {
   "cell_type": "code",
   "execution_count": 8,
   "metadata": {},
   "outputs": [],
   "source": [
    "import random\n",
    "def binary_symmetric_channel(p, y):\n",
    "    F = y.base_ring()\n",
    "    yy = y\n",
    "    for i in range(y.length()):\n",
    "        r = random.random()\n",
    "        if r > p:\n",
    "            e = 0\n",
    "            while e == 0:\n",
    "                e = F.random_element()\n",
    "            yy[i] += e\n",
    "    return y"
   ]
  },
  {
   "cell_type": "code",
   "execution_count": 9,
   "metadata": {},
   "outputs": [
    {
     "ename": "NameError",
     "evalue": "name 'normal0' is not defined",
     "output_type": "error",
     "traceback": [
      "\u001b[0;31m---------------------------------------------------------------------------\u001b[0m",
      "\u001b[0;31mNameError\u001b[0m                                 Traceback (most recent call last)",
      "Input \u001b[0;32mIn [9]\u001b[0m, in \u001b[0;36m<cell line: 11>\u001b[0;34m()\u001b[0m\n\u001b[1;32m      9\u001b[0m H[Integer(\u001b[38;5;241m0\u001b[39m)] \u001b[38;5;241m=\u001b[39m vector(K, [Integer(\u001b[38;5;241m1\u001b[39m),Integer(\u001b[38;5;241m1\u001b[39m),Integer(\u001b[38;5;241m1\u001b[39m),Integer(\u001b[38;5;241m1\u001b[39m),Integer(\u001b[38;5;241m0\u001b[39m),Integer(\u001b[38;5;241m0\u001b[39m),Integer(\u001b[38;5;241m0\u001b[39m),Integer(\u001b[38;5;241m0\u001b[39m),Integer(\u001b[38;5;241m0\u001b[39m),Integer(\u001b[38;5;241m0\u001b[39m),Integer(\u001b[38;5;241m0\u001b[39m),Integer(\u001b[38;5;241m0\u001b[39m),Integer(\u001b[38;5;241m0\u001b[39m),Integer(\u001b[38;5;241m0\u001b[39m),Integer(\u001b[38;5;241m0\u001b[39m),Integer(\u001b[38;5;241m0\u001b[39m)])\n\u001b[1;32m     10\u001b[0m H[Integer(\u001b[38;5;241m1\u001b[39m)] \u001b[38;5;241m=\u001b[39m vector(K, [Integer(\u001b[38;5;241m0\u001b[39m),Integer(\u001b[38;5;241m0\u001b[39m),Integer(\u001b[38;5;241m0\u001b[39m),Integer(\u001b[38;5;241m0\u001b[39m),Integer(\u001b[38;5;241m1\u001b[39m),Integer(\u001b[38;5;241m1\u001b[39m),Integer(\u001b[38;5;241m1\u001b[39m),Integer(\u001b[38;5;241m1\u001b[39m),Integer(\u001b[38;5;241m0\u001b[39m),Integer(\u001b[38;5;241m0\u001b[39m),Integer(\u001b[38;5;241m0\u001b[39m),Integer(\u001b[38;5;241m0\u001b[39m),Integer(\u001b[38;5;241m0\u001b[39m),Integer(\u001b[38;5;241m0\u001b[39m),Integer(\u001b[38;5;241m0\u001b[39m),Integer(\u001b[38;5;241m0\u001b[39m)])\n\u001b[0;32m---> 11\u001b[0m H[Integer(\u001b[38;5;241m2\u001b[39m)] \u001b[38;5;241m=\u001b[39m vector(K, [Integer(\u001b[38;5;241m0\u001b[39m),Integer(\u001b[38;5;241m0\u001b[39m),Integer(\u001b[38;5;241m0\u001b[39m),Integer(\u001b[38;5;241m0\u001b[39m),Integer(\u001b[38;5;241m0\u001b[39m),Integer(\u001b[38;5;241m0\u001b[39m),Integer(\u001b[38;5;241m0\u001b[39m),\u001b[43mnormal0\u001b[49m,Integer(\u001b[38;5;241m1\u001b[39m),Integer(\u001b[38;5;241m1\u001b[39m),Integer(\u001b[38;5;241m1\u001b[39m),Integer(\u001b[38;5;241m1\u001b[39m),Integer(\u001b[38;5;241m0\u001b[39m),Integer(\u001b[38;5;241m0\u001b[39m),Integer(\u001b[38;5;241m0\u001b[39m),Integer(\u001b[38;5;241m0\u001b[39m)])\n\u001b[1;32m     12\u001b[0m H[Integer(\u001b[38;5;241m3\u001b[39m)] \u001b[38;5;241m=\u001b[39m vector(K, [Integer(\u001b[38;5;241m0\u001b[39m),Integer(\u001b[38;5;241m0\u001b[39m),Integer(\u001b[38;5;241m0\u001b[39m),Integer(\u001b[38;5;241m0\u001b[39m),Integer(\u001b[38;5;241m0\u001b[39m),Integer(\u001b[38;5;241m0\u001b[39m),Integer(\u001b[38;5;241m0\u001b[39m),Integer(\u001b[38;5;241m0\u001b[39m),Integer(\u001b[38;5;241m0\u001b[39m),Integer(\u001b[38;5;241m0\u001b[39m),Integer(\u001b[38;5;241m0\u001b[39m),Integer(\u001b[38;5;241m0\u001b[39m),Integer(\u001b[38;5;241m1\u001b[39m),Integer(\u001b[38;5;241m1\u001b[39m),Integer(\u001b[38;5;241m1\u001b[39m),Integer(\u001b[38;5;241m1\u001b[39m)])\n\u001b[1;32m     14\u001b[0m H[Integer(\u001b[38;5;241m4\u001b[39m)] \u001b[38;5;241m=\u001b[39m vector(K, [Integer(\u001b[38;5;241m1\u001b[39m),Integer(\u001b[38;5;241m0\u001b[39m),Integer(\u001b[38;5;241m0\u001b[39m),Integer(\u001b[38;5;241m0\u001b[39m),Integer(\u001b[38;5;241m1\u001b[39m),Integer(\u001b[38;5;241m0\u001b[39m),Integer(\u001b[38;5;241m0\u001b[39m),Integer(\u001b[38;5;241m0\u001b[39m),Integer(\u001b[38;5;241m1\u001b[39m),Integer(\u001b[38;5;241m0\u001b[39m),Integer(\u001b[38;5;241m0\u001b[39m),Integer(\u001b[38;5;241m0\u001b[39m),Integer(\u001b[38;5;241m1\u001b[39m),Integer(\u001b[38;5;241m0\u001b[39m),Integer(\u001b[38;5;241m0\u001b[39m),Integer(\u001b[38;5;241m0\u001b[39m)])\n",
      "\u001b[0;31mNameError\u001b[0m: name 'normal0' is not defined"
     ]
    }
   ],
   "source": [
    "n=16\n",
    "k=8\n",
    "w=4\n",
    "\n",
    "K=GF(2)\n",
    "\n",
    "# matrice de parité d'un code LDPC régulier\n",
    "H=matrix(K,n-k,n)\n",
    "H[0] = vector(K, [1,1,1,1,0,0,0,0,0,0,0,0,0,0,0,0])\n",
    "H[1] = vector(K, [0,0,0,0,1,1,1,1,0,0,0,0,0,0,0,0])\n",
    "H[2] = vector(K, [0,0,0,0,0,0,0,0,1,1,1,1,0,0,0,0])\n",
    "H[3] = vector(K, [0,0,0,0,0,0,0,0,0,0,0,0,1,1,1,1])\n",
    "\n",
    "H[4] = vector(K, [1,0,0,0,1,0,0,0,1,0,0,0,1,0,0,0])\n",
    "H[5] = vector(K, [0,1,0,0,0,1,0,0,0,1,0,0,0,1,0,0])\n",
    "H[6] = vector(K, [0,0,1,0,0,0,1,0,0,0,1,0,0,0,1,0])\n",
    "H[7] = vector(K, [0,0,0,1,0,0,0,1,0,0,0,1,0,0,0,1])\n",
    "\n",
    "KerH = H.right_kernel()\n",
    "y=KerH.random_element()\n",
    "print(y)\n",
    "y=binary_symmetric_channel(.95, y)\n",
    "print(y)\n",
    "dec=BitFlippingDecoding(H, y) #,maxiter=200)\n",
    "\n",
    "print(dec)"
   ]
  },
  {
   "cell_type": "code",
   "execution_count": null,
   "metadata": {},
   "outputs": [],
   "source": []
  },
  {
   "cell_type": "code",
   "execution_count": null,
   "metadata": {},
   "outputs": [],
   "source": []
  }
 ],
 "metadata": {
  "kernelspec": {
   "display_name": "SageMath 9.0",
   "language": "sage",
   "name": "sagemath"
  },
  "language_info": {
   "codemirror_mode": {
    "name": "ipython",
    "version": 3
   },
   "file_extension": ".py",
   "mimetype": "text/x-python",
   "name": "python",
   "nbconvert_exporter": "python",
   "pygments_lexer": "ipython3",
   "version": "3.8.10"
  }
 },
 "nbformat": 4,
 "nbformat_minor": 4
}
