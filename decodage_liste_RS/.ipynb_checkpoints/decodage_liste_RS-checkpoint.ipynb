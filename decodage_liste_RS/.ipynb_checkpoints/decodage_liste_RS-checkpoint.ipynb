{
 "cells": [
  {
   "cell_type": "code",
   "execution_count": 68,
   "metadata": {},
   "outputs": [],
   "source": [
    "import random\n",
    "\n",
    "def random_nonzero_elt(F):\n",
    "    e = 0\n",
    "    while e == 0:\n",
    "        e = F.random_element()\n",
    "    return e\n",
    "\n",
    "# q-ary noisy channel producing t errors\n",
    "def channel_t_errors(y, t):\n",
    "    ylen = y.length()\n",
    "    K = y.base_ring()\n",
    "    err_pos = Subsets(ylen, t).random_element()\n",
    "    return vector(K, [y[i] + random_nonzero_elt(K) if i in err_pos else y[i] for i in range(ylen)])"
   ]
  },
  {
   "cell_type": "code",
   "execution_count": 1716,
   "metadata": {},
   "outputs": [],
   "source": [
    "class ReedSolomon:\n",
    "    def __init__(self, q, n, k):\n",
    "        self.q = q\n",
    "        self.n = n\n",
    "        self.k = k\n",
    "        \n",
    "        K.<g> = GF(q)\n",
    "        self.K = K\n",
    "        self.g = g\n",
    "        \n",
    "        R_x.<x> = K[]\n",
    "        self.R_x = R_x\n",
    "        self.x = x\n",
    "        \n",
    "        R_XY.<X, Y> = K[]\n",
    "        self.R_XY = R_XY\n",
    "        self.X = X\n",
    "        self.Y = Y\n",
    "        \n",
    "        self.t = floor((n - k) / 2)\n",
    "        \n",
    "    def encode(self, m):\n",
    "        p = self.R_x(m.list())\n",
    "        return vector(self.K, [p(self.g^i) for i in range(self.n)])\n",
    "    \n",
    "    def BerlekampWelch(self, u):\n",
    "        # n contraintes linéaires\n",
    "        # (deg A + 1) + (deg B + 1) variables = (n - t) + t + 1 = n + 1 variables\n",
    "        M = matrix(self.K, self.n, self.n + 1)\n",
    "        \n",
    "        for i in range(self.n):  # n equations linéaires\n",
    "            x_i = self.g^i\n",
    "            for j in range(self.t + 1): # u_i A(x_i)\n",
    "                M[i, j] = u[i] * x_i^j\n",
    "            for j in range(self.n - self.t): # -B(x_i)\n",
    "                M[i, self.t + 1 + j] = -x_i^j\n",
    "                \n",
    "        coeffs = M.right_kernel().basis_matrix().rows() # résolution du système d'equations linéaires\n",
    "        if coeffs == []:\n",
    "            return None\n",
    "        coeffs = coeffs[0]\n",
    "        \n",
    "        A = self.R_x(coeffs[:self.t + 1].list())\n",
    "        B = self.R_x(coeffs[self.t + 1:self.n + 1].list())\n",
    "        root = (B // A).list()\n",
    "        \n",
    "        while len(root) < self.k:\n",
    "            root.append(0)\n",
    "        return vector(self.K, root)\n",
    "    \n",
    "    def __degQ_j_Sudan(self, r, j):\n",
    "        return self.n - r - j * (self.k - 1) - 1\n",
    "    \n",
    "    def __makeM_Sudan(self, u, r, l):\n",
    "        lenQ_j = lambda j: 0 if self.__degQ_j_Sudan(r, j)+1 < 0 else self.__degQ_j_Sudan(r, j)+1\n",
    "        ncol = sum([lenQ_j(j) for j in range(l + 1)]) #(l + 1)*(self.n/l + 1) #sum([lenQ_j(j) for j in range(l + 1)])\n",
    "        \n",
    "        M = matrix(self.K, self.n, ncol)\n",
    "        for i in range(self.n): # n equations\n",
    "            x_i = self.g^i\n",
    "            offset = 0\n",
    "            for j in range(l + 1): # l + 1 polynômes Q_j\n",
    "                degQ_j = self.__degQ_j_Sudan(r, j)\n",
    "                if degQ_j < 0:\n",
    "                    continue\n",
    "                for k in range(degQ_j + 1):\n",
    "                    M[i, offset + k] = u[i]^j * x_i^k\n",
    "                offset += degQ_j + 1\n",
    "        return M\n",
    "    \n",
    "    def __hamming_dist(self, x, y):\n",
    "        #R.<X> = self.K[]\n",
    "        print(\"y=\",y)\n",
    "        y = y[:self.k]\n",
    "        x = vector(self.K, x.list())\n",
    "        print(x,y)\n",
    "        #return reduce(lambda a, b: a + 1 if b != 0 else a, (x - R(y.list())).list(), 0)\n",
    "        return reduce(lambda a, b: a + 1 if b != 0 else a, (x - y).list(), 0)\n",
    "    \n",
    "    def __argmin(self, L, received_codeword):\n",
    "        argmin = L[0]\n",
    "        dmin = self.__hamming_dist(argmin, received_codeword)\n",
    "        for i in range(1, len(L)):\n",
    "            min_i = self.__hamming_dist(L[i], received_codeword)\n",
    "            if min_i < dmin:\n",
    "                dmin = min_i\n",
    "                argmin = L[i]\n",
    "        return argmin\n",
    "    \n",
    "    def Sudan(self, u, r, l):\n",
    "        print(\"u=\",u)\n",
    "        assert(l > 0)\n",
    "        assert(r >= self.t)\n",
    "        \n",
    "        M = self.__makeM_Sudan(u, r, l)\n",
    "        print(\"M=\", M)\n",
    "        \n",
    "        coeffs = M.right_kernel().basis_matrix().rows() # résolution du système d'equations linéaires\n",
    "        if coeffs == []:\n",
    "            return []\n",
    "        coeffs = coeffs[0]\n",
    "        print(\"coeffs=\",  coeffs)\n",
    "        \n",
    "        Q = 0\n",
    "        offset = 0\n",
    "        for j in range(l + 1):\n",
    "            degQ_j = self.__degQ_j_Sudan(r, j) + 1\n",
    "            Q += (lambda v: sum([self.X^i * v[i] for i in range(len(v))]))(coeffs[offset:offset + degQ_j]) * self.Y^j\n",
    "            offset += degQ_j\n",
    "            \n",
    "        roots = Q.polynomial(self.Y).roots()\n",
    "        if roots == []:\n",
    "            return None\n",
    "        \n",
    "        def f(r):\n",
    "            r = r.list()\n",
    "            while len(r) < self.k:\n",
    "                r.append(0)\n",
    "            return vector(self.K, r)\n",
    "                \n",
    "        roots = list(map(lambda x: f(x[0]), roots))\n",
    "        \n",
    "        # maximum de vraissemblance\n",
    "        return vector(self.K, self.__argmin(roots, u).list())\n",
    "    \n",
    "    def __Q_uv(u,v,n,p,a):\n",
    "        Q_uv = 0\n",
    "        for i in range(n):\n",
    "            for j in range(p):\n",
    "                Q_uv += binomial(i, u) * binomial(j, v) * a[i, j] * self.X^(i - u) * self.Y^(j - v)\n",
    "        return Q_uv\n",
    "    \n",
    "    \n",
    "                                      \n",
    "    #def GuruswamiSudan(self):\n",
    "        "
   ]
  },
  {
   "cell_type": "code",
   "execution_count": 1717,
   "metadata": {},
   "outputs": [
    {
     "name": "stdout",
     "output_type": "stream",
     "text": [
      "5\n"
     ]
    }
   ],
   "source": [
    "rs1 = ReedSolomon(8, 6, 4)\n",
    "print(rs1.n-rs1.t)"
   ]
  },
  {
   "cell_type": "code",
   "execution_count": 1091,
   "metadata": {},
   "outputs": [
    {
     "data": {
      "text/plain": [
       "(g, g, 0, 0)"
      ]
     },
     "execution_count": 1091,
     "metadata": {},
     "output_type": "execute_result"
    }
   ],
   "source": [
    "channel_t_errors(vector([rs1.g, rs1.g^1, 0, rs1.g^6]), 2)"
   ]
  },
  {
   "cell_type": "code",
   "execution_count": 961,
   "metadata": {},
   "outputs": [
    {
     "name": "stdout",
     "output_type": "stream",
     "text": [
      "3\n"
     ]
    }
   ],
   "source": [
    "RS = VectorSpace(rs1.K, rs1.k)\n",
    "wmin = rs1.n\n",
    "for m in RS:\n",
    "    w_tmp = rs1.encode(m).hamming_weight()\n",
    "    if w_tmp > 0 and w_tmp < wmin:\n",
    "        wmin = w_tmp\n",
    "print(wmin)"
   ]
  },
  {
   "cell_type": "code",
   "execution_count": 1328,
   "metadata": {},
   "outputs": [
    {
     "name": "stdout",
     "output_type": "stream",
     "text": [
      "m =  (1, g^2 + g + 1, g^2 + g, g^2 + g)\n",
      "RS_encode(m) =  (g^2 + g, 0, 1, g^2 + 1, g^2 + g, g^2)\n",
      "Encoded + noise =  (g^2 + g, g^2, 1, g^2 + 1, g^2 + g + 1, g^2 + 1)\n",
      "Decoded =  (0, g^2 + g + 1, g + 1, g)\n",
      "Success =  False\n"
     ]
    }
   ],
   "source": [
    "m = VectorSpace(rs1.K, rs1.k).random_element()\n",
    "\n",
    "print(\"m = \", m)\n",
    "\n",
    "m_enc = rs1.encode(m)\n",
    "print(\"RS_encode(m) = \", m_enc)\n",
    "\n",
    "# la distance minimale est 3 donc on peut corriger au max 1 erreur\n",
    "noisy = channel_t_errors(m_enc, 3)\n",
    "print(\"Encoded + noise = \", noisy)\n",
    "\n",
    "dec = rs1.BerlekampWelch(noisy)\n",
    "print(\"Decoded = \", dec)\n",
    "print(\"Success = \", m == dec)"
   ]
  },
  {
   "cell_type": "code",
   "execution_count": 1746,
   "metadata": {},
   "outputs": [
    {
     "name": "stdout",
     "output_type": "stream",
     "text": [
      "m =  (0, 1, g^2 + g, g + 1)\n",
      "RS_encode(m) =  (g^2, g, g, g^2 + g + 1, g + 1, 0)\n",
      "Encoded + noise =  (g^2, g, g, g^2 + g, g + 1, g)\n",
      "u= (g^2, g, g, g^2 + g, g + 1, g)\n",
      "M= [          1           1           1           1           1         g^2         g^2]\n",
      "[          1           g         g^2       g + 1     g^2 + g           g         g^2]\n",
      "[          1         g^2     g^2 + g     g^2 + 1           g           g       g + 1]\n",
      "[          1       g + 1     g^2 + 1         g^2 g^2 + g + 1     g^2 + g           1]\n",
      "[          1     g^2 + g           g g^2 + g + 1         g^2       g + 1           1]\n",
      "[          1 g^2 + g + 1       g + 1           g     g^2 + 1           g     g^2 + 1]\n",
      "coeffs= (1, g^2 + g + 1, g^2 + 1, g + 1, 1, g^2 + g + 1, 0)\n",
      "y= (g^2, g, g, g^2 + g, g + 1, g)\n",
      "(g^2, 1, g, g^2 + g + 1, g^2) (g^2, g, g, g^2 + g)\n"
     ]
    },
    {
     "ename": "TypeError",
     "evalue": "unsupported operand parent(s) for -: 'Vector space of dimension 5 over Finite Field in g of size 2^3' and 'Vector space of dimension 4 over Finite Field in g of size 2^3'",
     "output_type": "error",
     "traceback": [
      "\u001b[0;31m---------------------------------------------------------------------------\u001b[0m",
      "\u001b[0;31mTypeError\u001b[0m                                 Traceback (most recent call last)",
      "Input \u001b[0;32mIn [1746]\u001b[0m, in \u001b[0;36m<module>\u001b[0;34m\u001b[0m\n\u001b[1;32m     15\u001b[0m noisy \u001b[38;5;241m=\u001b[39m channel_t_errors(m_enc, Integer(\u001b[38;5;241m2\u001b[39m))\n\u001b[1;32m     16\u001b[0m \u001b[38;5;28mprint\u001b[39m(\u001b[38;5;124m\"\u001b[39m\u001b[38;5;124mEncoded + noise = \u001b[39m\u001b[38;5;124m\"\u001b[39m, noisy)\n\u001b[0;32m---> 18\u001b[0m dec \u001b[38;5;241m=\u001b[39m \u001b[43mrs1\u001b[49m\u001b[38;5;241;43m.\u001b[39;49m\u001b[43mSudan\u001b[49m\u001b[43m(\u001b[49m\u001b[43mnoisy\u001b[49m\u001b[43m,\u001b[49m\u001b[43m \u001b[49m\u001b[43mrs1\u001b[49m\u001b[38;5;241;43m.\u001b[39;49m\u001b[43mt\u001b[49m\u001b[43m,\u001b[49m\u001b[43m \u001b[49m\u001b[43mInteger\u001b[49m\u001b[43m(\u001b[49m\u001b[38;5;241;43m10\u001b[39;49m\u001b[43m)\u001b[49m\u001b[43m)\u001b[49m\n\u001b[1;32m     19\u001b[0m \u001b[38;5;28mprint\u001b[39m(\u001b[38;5;124m\"\u001b[39m\u001b[38;5;124mDecoded = \u001b[39m\u001b[38;5;124m\"\u001b[39m, dec)\n\u001b[1;32m     20\u001b[0m \u001b[38;5;28mprint\u001b[39m(\u001b[38;5;124m\"\u001b[39m\u001b[38;5;124mSuccess = \u001b[39m\u001b[38;5;124m\"\u001b[39m, m \u001b[38;5;241m==\u001b[39m dec)\n",
      "Input \u001b[0;32mIn [1716]\u001b[0m, in \u001b[0;36mReedSolomon.Sudan\u001b[0;34m(self, u, r, l)\u001b[0m\n\u001b[1;32m    121\u001b[0m roots \u001b[38;5;241m=\u001b[39m \u001b[38;5;28mlist\u001b[39m(\u001b[38;5;28mmap\u001b[39m(\u001b[38;5;28;01mlambda\u001b[39;00m x: f(x[Integer(\u001b[38;5;241m0\u001b[39m)]), roots))\n\u001b[1;32m    123\u001b[0m \u001b[38;5;66;03m# maximum de vraissemblance\u001b[39;00m\n\u001b[0;32m--> 124\u001b[0m \u001b[38;5;28;01mreturn\u001b[39;00m vector(\u001b[38;5;28mself\u001b[39m\u001b[38;5;241m.\u001b[39mK, \u001b[38;5;28;43mself\u001b[39;49m\u001b[38;5;241;43m.\u001b[39;49m\u001b[43m__argmin\u001b[49m\u001b[43m(\u001b[49m\u001b[43mroots\u001b[49m\u001b[43m,\u001b[49m\u001b[43m \u001b[49m\u001b[43mu\u001b[49m\u001b[43m)\u001b[49m\u001b[38;5;241m.\u001b[39mlist())\n",
      "Input \u001b[0;32mIn [1716]\u001b[0m, in \u001b[0;36mReedSolomon.__argmin\u001b[0;34m(self, L, received_codeword)\u001b[0m\n\u001b[1;32m     80\u001b[0m \u001b[38;5;28;01mdef\u001b[39;00m \u001b[38;5;21m__argmin\u001b[39m(\u001b[38;5;28mself\u001b[39m, L, received_codeword):\n\u001b[1;32m     81\u001b[0m     argmin \u001b[38;5;241m=\u001b[39m L[Integer(\u001b[38;5;241m0\u001b[39m)]\n\u001b[0;32m---> 82\u001b[0m     dmin \u001b[38;5;241m=\u001b[39m \u001b[38;5;28;43mself\u001b[39;49m\u001b[38;5;241;43m.\u001b[39;49m\u001b[43m__hamming_dist\u001b[49m\u001b[43m(\u001b[49m\u001b[43margmin\u001b[49m\u001b[43m,\u001b[49m\u001b[43m \u001b[49m\u001b[43mreceived_codeword\u001b[49m\u001b[43m)\u001b[49m\n\u001b[1;32m     83\u001b[0m     \u001b[38;5;28;01mfor\u001b[39;00m i \u001b[38;5;129;01min\u001b[39;00m \u001b[38;5;28mrange\u001b[39m(Integer(\u001b[38;5;241m1\u001b[39m), \u001b[38;5;28mlen\u001b[39m(L)):\n\u001b[1;32m     84\u001b[0m         min_i \u001b[38;5;241m=\u001b[39m \u001b[38;5;28mself\u001b[39m\u001b[38;5;241m.\u001b[39m__hamming_dist(L[i], received_codeword)\n",
      "Input \u001b[0;32mIn [1716]\u001b[0m, in \u001b[0;36mReedSolomon.__hamming_dist\u001b[0;34m(self, x, y)\u001b[0m\n\u001b[1;32m     76\u001b[0m \u001b[38;5;28mprint\u001b[39m(x,y)\n\u001b[1;32m     77\u001b[0m \u001b[38;5;66;03m#return reduce(lambda a, b: a + 1 if b != 0 else a, (x - R(y.list())).list(), 0)\u001b[39;00m\n\u001b[0;32m---> 78\u001b[0m \u001b[38;5;28;01mreturn\u001b[39;00m reduce(\u001b[38;5;28;01mlambda\u001b[39;00m a, b: a \u001b[38;5;241m+\u001b[39m Integer(\u001b[38;5;241m1\u001b[39m) \u001b[38;5;28;01mif\u001b[39;00m b \u001b[38;5;241m!=\u001b[39m Integer(\u001b[38;5;241m0\u001b[39m) \u001b[38;5;28;01melse\u001b[39;00m a, (\u001b[43mx\u001b[49m\u001b[43m \u001b[49m\u001b[38;5;241;43m-\u001b[39;49m\u001b[43m \u001b[49m\u001b[43my\u001b[49m)\u001b[38;5;241m.\u001b[39mlist(), Integer(\u001b[38;5;241m0\u001b[39m))\n",
      "File \u001b[0;32m/usr/lib64/python3.10/site-packages/sage/structure/element.pyx:1357\u001b[0m, in \u001b[0;36msage.structure.element.Element.__sub__\u001b[0;34m()\u001b[0m\n",
      "File \u001b[0;32m/usr/lib64/python3.10/site-packages/sage/structure/coerce.pyx:1248\u001b[0m, in \u001b[0;36msage.structure.coerce.CoercionModel.bin_op\u001b[0;34m()\u001b[0m\n",
      "\u001b[0;31mTypeError\u001b[0m: unsupported operand parent(s) for -: 'Vector space of dimension 5 over Finite Field in g of size 2^3' and 'Vector space of dimension 4 over Finite Field in g of size 2^3'"
     ]
    }
   ],
   "source": [
    "def vec_eq(x, y):\n",
    "    for i in range(x.length()):\n",
    "        if x[i] != y[i]:\n",
    "            return False\n",
    "    return True\n",
    "\n",
    "m = VectorSpace(rs1.K, rs1.k).random_element()\n",
    "\n",
    "print(\"m = \", m)\n",
    "\n",
    "m_enc = rs1.encode(m)\n",
    "print(\"RS_encode(m) = \", m_enc)\n",
    "\n",
    "\n",
    "noisy = channel_t_errors(m_enc, 2)\n",
    "print(\"Encoded + noise = \", noisy)\n",
    "   \n",
    "dec = rs1.Sudan(noisy, rs1.t, 10)\n",
    "print(\"Decoded = \", dec)\n",
    "print(\"Success = \", m == dec)"
   ]
  },
  {
   "cell_type": "code",
   "execution_count": null,
   "metadata": {},
   "outputs": [],
   "source": []
  },
  {
   "cell_type": "code",
   "execution_count": null,
   "metadata": {},
   "outputs": [],
   "source": []
  }
 ],
 "metadata": {
  "kernelspec": {
   "display_name": "SageMath 9.4",
   "language": "sage",
   "name": "sagemath"
  },
  "language_info": {
   "codemirror_mode": {
    "name": "ipython",
    "version": 3
   },
   "file_extension": ".py",
   "mimetype": "text/x-python",
   "name": "python",
   "nbconvert_exporter": "python",
   "pygments_lexer": "ipython3",
   "version": "3.10.4"
  }
 },
 "nbformat": 4,
 "nbformat_minor": 4
}
