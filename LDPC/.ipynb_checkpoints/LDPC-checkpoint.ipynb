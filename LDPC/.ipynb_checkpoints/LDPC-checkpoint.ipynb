{
 "cells": [
  {
   "cell_type": "code",
   "execution_count": 132,
   "metadata": {},
   "outputs": [],
   "source": [
    "def vector_nonzero_ith_component(length, i, e, f):\n",
    "    x = zero_vector(f, length)\n",
    "    x[i] = e\n",
    "    return x\n",
    "\n",
    "def inf(L):\n",
    "    m = L[0]\n",
    "    for i in range(1, len(L)):\n",
    "        if L[i] < m:\n",
    "            m = L[i]\n",
    "    return m\n",
    "\n",
    "def f(y, i):\n",
    "    n = y.length()\n",
    "    canonic_base_vec = lambda i:  vector_nonzero_ith_component(n, i, 1, y.base_ring())\n",
    "    w = (H * (y + canonic_base_vec(i))).hamming_weight()\n",
    "    return (w != (H * y).hamming_weight() and inf([H * (y + canonic_base_vec(j)) for j in range(0, n)]) == w)\n",
    "\n",
    "def BitFlippingDecoding(H, y, maxiter=20):\n",
    "    for j in range(maxiter - 1):\n",
    "        \n",
    "        y_tmp = y\n",
    "        for i in range(n):\n",
    "            if f(y, i):\n",
    "                y_tmp[i] = -y_tmp[i]\n",
    "        \n",
    "        y = y_tmp\n",
    "        \n",
    "        if H * y == 0:\n",
    "            return y\n",
    "        \n",
    "    return None"
   ]
  },
  {
   "cell_type": "code",
   "execution_count": 127,
   "metadata": {},
   "outputs": [],
   "source": [
    "import random\n",
    "def BSC(p, y):\n",
    "    F = y.base_ring()\n",
    "    yy = y\n",
    "    for i in range(y.length()):\n",
    "        r = random.random()\n",
    "        if r > p:\n",
    "            e = 0\n",
    "            while e == 0:\n",
    "                e = F.random_element()\n",
    "            yy[i] += e\n",
    "    return y"
   ]
  },
  {
   "cell_type": "code",
   "execution_count": 135,
   "metadata": {},
   "outputs": [
    {
     "name": "stdout",
     "output_type": "stream",
     "text": [
      "(0, 0, 1, 1, 1, 0, 1, 0, 0, 0, 0, 0, 1, 0, 0, 1)\n",
      "(1, 0, 1, 1, 1, 0, 1, 0, 0, 0, 0, 0, 1, 0, 1, 1)\n",
      "None\n"
     ]
    }
   ],
   "source": [
    "n=16\n",
    "k=8\n",
    "w=4\n",
    "\n",
    "K=GF(2)\n",
    "\n",
    "# matrice de parité d'un code LDPC régulier\n",
    "H=matrix(K,n-k,n)\n",
    "H[0] = vector(K, [1,1,1,1,0,0,0,0,0,0,0,0,0,0,0,0])\n",
    "H[1] = vector(K, [0,0,0,0,1,1,1,1,0,0,0,0,0,0,0,0])\n",
    "H[2] = vector(K, [0,0,0,0,0,0,0,0,1,1,1,1,0,0,0,0])\n",
    "H[3] = vector(K, [0,0,0,0,0,0,0,0,0,0,0,0,1,1,1,1])\n",
    "\n",
    "H[4] = vector(K, [1,0,0,0,1,0,0,0,1,0,0,0,1,0,0,0])\n",
    "H[5] = vector(K, [0,1,0,0,0,1,0,0,0,1,0,0,0,1,0,0])\n",
    "H[6] = vector(K, [0,0,1,0,0,0,1,0,0,0,1,0,0,0,1,0])\n",
    "H[7] = vector(K, [0,0,0,1,0,0,0,1,0,0,0,1,0,0,0,1])\n",
    "\n",
    "KerH = H.right_kernel()\n",
    "y=KerH.random_element()\n",
    "print(y)\n",
    "y=BSC(.9, y)\n",
    "dec=BitFlippingDecoding(H, y, maxiter=200)\n",
    "\n",
    "print(y)\n",
    "print(dec)"
   ]
  },
  {
   "cell_type": "code",
   "execution_count": null,
   "metadata": {},
   "outputs": [],
   "source": []
  }
 ],
 "metadata": {
  "kernelspec": {
   "display_name": "SageMath 9.4",
   "language": "sage",
   "name": "sagemath"
  },
  "language_info": {
   "codemirror_mode": {
    "name": "ipython",
    "version": 3
   },
   "file_extension": ".py",
   "mimetype": "text/x-python",
   "name": "python",
   "nbconvert_exporter": "python",
   "pygments_lexer": "ipython3",
   "version": "3.10.4"
  }
 },
 "nbformat": 4,
 "nbformat_minor": 4
}
