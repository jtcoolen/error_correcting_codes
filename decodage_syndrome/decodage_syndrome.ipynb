{
 "cells": [
  {
   "cell_type": "code",
   "execution_count": 1,
   "metadata": {},
   "outputs": [],
   "source": [
    "import random\n",
    "import itertools"
   ]
  },
  {
   "cell_type": "code",
   "execution_count": 2,
   "metadata": {},
   "outputs": [],
   "source": [
    "def Prange(H, s, w):\n",
    "    m, n = H.dimensions()\n",
    "    assert(0 <= w <= n)\n",
    "    assert(s.length() == m) # m == n - k\n",
    "    \n",
    "    k = n - m\n",
    "    f = H.base_ring()\n",
    "    \n",
    "    while True:\n",
    "        I = random.sample(range(0, n), k)\n",
    "        J = tuple(set(range(0, n)) - set(I))\n",
    "        H_J = H[:, J]\n",
    "        \n",
    "        try:\n",
    "            s_ = H_J.inverse() * s\n",
    "        except ZeroDivisionError:\n",
    "            continue\n",
    "            \n",
    "        if s_.hamming_weight() <= w:\n",
    "            e = zero_vector(f, n)\n",
    "            for i, j in zip(range(n - k), J):\n",
    "                e[j] = s_[i]\n",
    "            return e"
   ]
  },
  {
   "cell_type": "code",
   "execution_count": 4,
   "metadata": {},
   "outputs": [],
   "source": [
    "import sage.coding\n",
    "C = codes.HammingCode(GF(3), 4)\n",
    "\n",
    "H = C.parity_check_matrix()"
   ]
  },
  {
   "cell_type": "code",
   "execution_count": 12,
   "metadata": {},
   "outputs": [
    {
     "name": "stdout",
     "output_type": "stream",
     "text": [
      "CPU times: user 920 µs, sys: 0 ns, total: 920 µs\n",
      "Wall time: 944 µs\n"
     ]
    },
    {
     "data": {
      "text/plain": [
       "(0, 0, 0, 0, 0, 2, 0, 0, 0, 0, 0, 0, 0, 0, 0, 0, 0, 0, 0, 0, 0, 0, 0, 0, 0, 0, 0, 0, 0, 0, 0, 0, 0, 0, 0, 2, 0, 0, 0, 0)"
      ]
     },
     "execution_count": 12,
     "metadata": {},
     "output_type": "execute_result"
    }
   ],
   "source": [
    "%%time\n",
    "Prange(H, vector([1,1,1,1]), 3)"
   ]
  },
  {
   "cell_type": "code",
   "execution_count": 15,
   "metadata": {},
   "outputs": [
    {
     "name": "stdout",
     "output_type": "stream",
     "text": [
      "0.3146469141783723\n"
     ]
    },
    {
     "data": {
      "image/png": "[encoded data removed]",
      "text/plain": [
       "Graphics object consisting of 1 graphics primitive"
      ]
     },
     "metadata": {},
     "output_type": "display_data"
    }
   ],
   "source": [
    "from sage.coding.code_bounds import entropy, entropy_inverse\n",
    "#import pylab as plt\n",
    "\n",
    "q = 3^3\n",
    "R = 1/2\n",
    "n=1000  # Augmenter n ne change pas le profil de la fonction f\n",
    "k = n / 2 # exemple de dimension\n",
    "prange = lambda w: n * (n-k)^2 * q^(n * (min(entropy(w, q), 1-R) - (1-R)*entropy(w/(1-R), q)))\n",
    "\n",
    "dGV = lambda R: entropy_inverse(1-R, q)\n",
    "print(dGV(R))\n",
    "\n",
    "w = dGV(R)\n",
    "prange = lambda R: n * (n-k)^2 * q^(n * (entropy(w, q) - (1-R)*entropy(w/(1-R), q)))\n",
    "\n",
    "\n",
    "#P = line([(dGV(R),0),(dGV(R),prange(dGV(R)))], color='black', linestyle=\"--\")\n",
    "P = plot(prange, (0, .4))\n",
    "#P += text(\"$d_{GV}(R=1/2)$\", (dGV(R)+.045, 10^8), fontsize=12, color='black')\n",
    "# P.set_axes_range(ymin=0)\n",
    "P.axes_labels(['$w$', '$T_{Prange}$'])\n",
    "\n",
    "\n",
    "# w = omega * n => w/n=omega donc omega tend vers 0 quand n tend vers l'infini\n",
    "P.show(scale='semilogy')"
   ]
  },
  {
   "cell_type": "code",
   "execution_count": 5,
   "metadata": {},
   "outputs": [
    {
     "name": "stderr",
     "output_type": "stream",
     "text": [
      "/usr/lib/python3.10/site-packages/fontTools/misc/py23.py:11: DeprecationWarning: The py23 module has been deprecated and will be removed in a future release. Please update your code.\n",
      "  warnings.warn(\n"
     ]
    }
   ],
   "source": [
    "P.save(\"prange.pdf\",scale='semilogy')"
   ]
  },
  {
   "cell_type": "code",
   "execution_count": 18,
   "metadata": {},
   "outputs": [],
   "source": [
    "# p = 2\n",
    "def Lee_Brickell(H, s, w):\n",
    "    m, n = H.dimensions()\n",
    "    assert(0 <= w <= n)\n",
    "    assert(2 < w) # w-p > 0 => p < w\n",
    "    assert(s.length() == m) # m == n - k\n",
    "    \n",
    "    k = n - m\n",
    "    f = H.base_ring()\n",
    "    \n",
    "    while True:\n",
    "        I = random.sample(range(0, n), k)\n",
    "        J = tuple(set(range(0, n)) - set(I))\n",
    "        H_I = H[:, I]\n",
    "        H_J = H[:, J]\n",
    "        \n",
    "        try:\n",
    "            H_J_inv = H_J.inverse()\n",
    "        except ZeroDivisionError:\n",
    "            continue\n",
    "            \n",
    "        s_ = H_J_inv * s\n",
    "        for i1, i2 in itertools.product(range(0, k), range(0, k)):\n",
    "            if i1 != i2:\n",
    "                x = zero_vector(f, k)\n",
    "                for e1, e2 in f^2:\n",
    "                    if e1 != 0 and e2 != 0:\n",
    "                        x[i1] = e1\n",
    "                        x[i2] = e2\n",
    "                        y = s_ - H_J_inv * H_I * x\n",
    "                        \n",
    "                        if y.hamming_weight() <= w - 2:\n",
    "                            e = zero_vector(f, n)\n",
    "                            for i, j in zip(range(k), I):\n",
    "                                e[j] = x[i]\n",
    "                            for i, j in zip(range(n - k), J):\n",
    "                                e[j] = y[i]\n",
    "                            return e"
   ]
  },
  {
   "cell_type": "code",
   "execution_count": 19,
   "metadata": {},
   "outputs": [],
   "source": [
    "import sage.coding\n",
    "C = codes.HammingCode(GF(3), 7)\n",
    "\n",
    "H = C.parity_check_matrix()"
   ]
  },
  {
   "cell_type": "code",
   "execution_count": 21,
   "metadata": {},
   "outputs": [
    {
     "name": "stdout",
     "output_type": "stream",
     "text": [
      "CPU times: user 73.4 ms, sys: 3.05 ms, total: 76.5 ms\n",
      "Wall time: 75.1 ms\n"
     ]
    },
    {
     "data": {
      "text/plain": [
       "(0, 0, 0, 0, 0, 0, 0, 0, 0, 0, 0, 0, 0, 0, 0, 0, 0, 0, 0, 0, 0, 0, 0, 0, 0, 0, 0, 0, 0, 0, 0, 0, 0, 0, 0, 0, 0, 0, 0, 0, 0, 0, 0, 0, 0, 0, 0, 0, 0, 0, 0, 0, 0, 0, 0, 0, 0, 0, 0, 0, 0, 0, 0, 0, 0, 0, 0, 0, 0, 0, 0, 0, 0, 0, 0, 0, 0, 0, 0, 0, 0, 0, 0, 0, 0, 0, 0, 0, 0, 0, 0, 0, 0, 0, 0, 0, 0, 0, 0, 0, 0, 0, 0, 0, 0, 0, 0, 0, 0, 0, 0, 0, 0, 0, 0, 0, 0, 0, 0, 0, 0, 0, 0, 0, 0, 0, 0, 0, 0, 0, 0, 0, 0, 0, 0, 0, 0, 0, 0, 0, 0, 0, 0, 0, 0, 0, 0, 0, 0, 0, 0, 0, 0, 0, 0, 0, 0, 0, 0, 0, 0, 0, 0, 0, 0, 0, 0, 0, 0, 0, 0, 0, 0, 0, 0, 0, 0, 0, 0, 0, 0, 0, 0, 0, 0, 0, 0, 0, 0, 0, 0, 0, 0, 0, 0, 0, 0, 0, 0, 0, 0, 0, 0, 0, 0, 0, 0, 0, 0, 0, 0, 0, 0, 0, 0, 0, 0, 0, 0, 0, 0, 0, 0, 0, 0, 0, 0, 0, 0, 0, 0, 0, 0, 0, 0, 0, 0, 0, 0, 0, 0, 0, 0, 0, 0, 0, 0, 0, 0, 0, 0, 0, 0, 0, 0, 0, 0, 0, 0, 0, 0, 0, 0, 0, 0, 0, 0, 0, 0, 0, 0, 0, 0, 0, 0, 0, 0, 0, 0, 0, 0, 0, 0, 0, 0, 0, 0, 0, 0, 0, 0, 0, 0, 0, 0, 0, 0, 0, 0, 0, 0, 0, 0, 0, 0, 0, 0, 0, 0, 0, 0, 0, 0, 0, 0, 0, 0, 0, 0, 0, 0, 0, 0, 0, 0, 0, 0, 0, 0, 0, 0, 0, 0, 0, 0, 0, 0, 0, 0, 0, 0, 0, 0, 0, 0, 0, 0, 0, 0, 0, 0, 0, 0, 0, 0, 0, 0, 0, 0, 0, 0, 0, 0, 0, 0, 0, 0, 0, 0, 0, 0, 0, 0, 0, 0, 0, 0, 0, 0, 0, 0, 0, 0, 0, 0, 0, 0, 0, 0, 0, 0, 0, 0, 0, 0, 0, 0, 0, 0, 0, 0, 0, 0, 0, 0, 0, 0, 0, 0, 0, 0, 0, 0, 0, 0, 0, 0, 0, 0, 0, 0, 0, 0, 0, 0, 0, 0, 0, 0, 0, 0, 0, 0, 0, 0, 0, 0, 0, 0, 0, 0, 0, 0, 0, 0, 0, 0, 0, 0, 0, 0, 0, 0, 0, 0, 0, 0, 0, 0, 0, 0, 0, 0, 0, 0, 0, 0, 0, 0, 0, 0, 0, 0, 0, 0, 0, 0, 0, 0, 0, 0, 0, 0, 0, 0, 0, 0, 0, 0, 0, 0, 0, 0, 0, 0, 0, 0, 0, 0, 0, 0, 0, 0, 0, 0, 0, 0, 0, 0, 0, 0, 0, 0, 0, 0, 0, 0, 0, 0, 0, 0, 0, 0, 0, 0, 0, 0, 0, 0, 0, 0, 0, 0, 0, 0, 0, 0, 0, 0, 0, 0, 0, 0, 0, 0, 0, 0, 0, 0, 0, 0, 0, 0, 0, 0, 0, 0, 0, 0, 0, 0, 0, 0, 0, 0, 0, 0, 0, 0, 0, 0, 0, 0, 0, 0, 0, 0, 0, 0, 0, 0, 0, 0, 0, 0, 0, 0, 0, 0, 0, 0, 0, 0, 0, 0, 0, 0, 0, 0, 0, 0, 0, 0, 0, 0, 1, 0, 0, 0, 0, 0, 0, 0, 0, 0, 0, 0, 0, 0, 0, 0, 0, 0, 0, 0, 0, 0, 0, 0, 0, 0, 0, 0, 0, 0, 0, 0, 0, 0, 0, 0, 0, 0, 0, 0, 0, 0, 1, 0, 0, 0, 0, 0, 0, 0, 0, 0, 0, 0, 0, 0, 0, 0, 0, 0, 0, 0, 0, 0, 0, 0, 0, 0, 0, 0, 0, 0, 0, 0, 0, 0, 0, 0, 0, 0, 0, 0, 0, 0, 0, 0, 0, 0, 0, 0, 0, 0, 0, 0, 0, 0, 0, 0, 0, 0, 0, 0, 0, 0, 0, 0, 0, 0, 0, 0, 0, 0, 0, 0, 0, 0, 0, 0, 0, 0, 0, 0, 0, 0, 0, 0, 0, 0, 0, 0, 0, 0, 0, 0, 0, 0, 0, 0, 0, 0, 0, 0, 0, 0, 0, 0, 0, 0, 0, 0, 0, 0, 0, 0, 0, 0, 0, 0, 0, 0, 0, 0, 0, 0, 0, 0, 0, 0, 0, 0, 0, 0, 0, 0, 0, 0, 0, 0, 0, 0, 0, 0, 0, 0, 0, 0, 0, 0, 0, 0, 0, 0, 0, 0, 0, 0, 0, 0, 0, 0, 0, 0, 0, 0, 0, 0, 0, 0, 0, 0, 0, 0, 0, 0, 0, 0, 0, 0, 0, 0, 0, 0, 0, 0, 0, 0, 0, 0, 0, 0, 0, 0, 0, 0, 0, 0, 0, 0, 0, 0, 0, 0, 0, 0, 0, 0, 0, 0, 0, 0, 0, 0, 0, 0, 0, 0, 0, 0, 0, 0, 0, 0, 0, 0, 0, 0, 0, 0, 0, 0, 0, 0, 0, 0, 0, 0, 0, 0, 0, 0, 0, 0, 0, 0, 0, 0, 0, 0, 0, 0, 0, 0, 0, 0, 0, 0, 0, 0, 0, 0, 0, 0, 0, 0, 0, 0, 0, 0, 0, 0, 0, 0, 0, 0, 0, 0, 0, 0, 0, 0, 0, 0, 0, 0, 0, 0, 0, 0, 1, 0, 0, 0, 0, 0, 0, 0, 0, 0, 0, 0, 0, 0, 0, 0, 0, 0, 0, 0, 0, 0, 0, 0, 0, 0, 0, 0, 0, 0, 0, 0, 0, 0, 0, 0, 0, 0, 0, 0, 0, 0, 0, 0, 0, 0, 0, 0, 0, 0, 0, 0, 0, 0, 0, 0, 0, 0, 0, 0, 0, 0, 0, 0, 0, 0, 0, 0, 0, 0, 0, 0, 0, 0, 0, 0, 0, 0, 0, 0, 0, 0, 0, 0, 0, 0, 0, 0, 0, 0, 0, 0, 0, 0, 0, 0, 0, 0, 0, 0, 0, 0, 0, 0, 0, 0, 0, 0, 0, 0, 0, 0, 0, 0, 0, 0, 0, 0, 0, 0, 0, 0, 0, 0, 0, 0, 0, 0, 0, 0, 0, 0, 0, 0, 0, 0, 0, 0, 0, 0, 0, 0, 0, 0, 0, 0, 0, 0, 0, 0, 0, 0, 0, 0, 0, 0, 0, 0, 0, 0)"
      ]
     },
     "execution_count": 21,
     "metadata": {},
     "output_type": "execute_result"
    }
   ],
   "source": [
    "%%time\n",
    "Lee_Brickell(H, vector([1,1,1,1,1,1,1]), 3)"
   ]
  },
  {
   "cell_type": "code",
   "execution_count": 156,
   "metadata": {},
   "outputs": [
    {
     "name": "stdout",
     "output_type": "stream",
     "text": [
      "(x, y) |--> 2*x*cos(x^2) + y - e^(-x)\n"
     ]
    }
   ],
   "source": [
    "f(x,y) = x*y + sin(x^2) + e^(-x)\n",
    "print(derivative(f, x))"
   ]
  },
  {
   "cell_type": "code",
   "execution_count": 14,
   "metadata": {},
   "outputs": [
    {
     "name": "stdout",
     "output_type": "stream",
     "text": [
      "p |--> -0.0000100000000000000*(p + 49900)*log(1/50000*p + 499/500)/log(2) + 0.0000100000000000000*(p - 100)*log(-1/50000*p + 1/500)/log(2)\n"
     ]
    },
    {
     "data": {
      "text/plain": [
       "(0.009776005762163054, 7.000000126496305)"
      ]
     },
     "execution_count": 14,
     "metadata": {},
     "output_type": "execute_result"
    }
   ],
   "source": [
    "q = 2\n",
    "n=100000  # Augmenter n ne change pas le profil de la fonction f\n",
    "f(w, p) = .5*(entropy(2*(w-p)/n, q))\n",
    "w = 100\n",
    "f1(p) = .5*(entropy(2*(w-p)/n, q))\n",
    "print(f1)\n",
    "#print(derivative(f, w))\n",
    "#print(derivative(f(w,p)))\n",
    "#print(derivative(derivative(f(w,p))))\n",
    "d1=derivative(f(w,p))\n",
    "d2=derivative(d1)\n",
    "#print(float(f1(2)))\n",
    "find_local_maximum(f1, 7, 10)"
   ]
  },
  {
   "cell_type": "code",
   "execution_count": 9,
   "metadata": {},
   "outputs": [
    {
     "name": "stdout",
     "output_type": "stream",
     "text": [
      "verbose 0 (3839: plot.py, generate_plot_points) WARNING: When plotting, failed to evaluate function at 11 points.\n",
      "verbose 0 (3839: plot.py, generate_plot_points) Last error message: 'The entropy function is defined only for x in the interval [0, 1]'\n"
     ]
    },
    {
     "data": {
      "image/png": "[encoded data removed]",
      "text/plain": [
       "Graphics object consisting of 4 graphics primitives"
      ]
     },
     "metadata": {},
     "output_type": "display_data"
    }
   ],
   "source": [
    "q = 3^3\n",
    "R = 1/2\n",
    "n=100  # Augmenter n ne change pas le profil de la fonction f\n",
    "k = n / 2 # exemple de dimension\n",
    "p=2.\n",
    "lee_brickell = lambda w:  q^(n * (min(entropy(w, q), 1-R) - (1-R)*entropy((w-p/n)/(1-R), q)))\n",
    "\n",
    "P_LB = line([(dGV(R),0),(dGV(R),lee_brickell(dGV(R)))], color='black', linestyle=\"--\")\n",
    "P_LB += plot(lee_brickell, (0, .4), color='red', legend_label='Lee-Brickell')\n",
    "P_LB += plot(prange, (0, .4),legend_label='Prange')\n",
    "P_LB += text(\"$d_{GV}(R=1/2)$\", (dGV(R)+.045, 10^9), fontsize=12, color='black')\n",
    "# P.set_axes_range(ymin=0)\n",
    "P_LB.axes_labels(['$w$', '$T$'])\n",
    "P_LB.legend(True)\n",
    "\n",
    "# w = omega * n => w/n=omega donc omega tend vers 0 quand n tend vers l'infini\n",
    "P_LB.show(scale='semilogy')"
   ]
  },
  {
   "cell_type": "code",
   "execution_count": 8,
   "metadata": {},
   "outputs": [],
   "source": [
    "P_LB.save(\"LB.pdf\",scale='semilogy')"
   ]
  },
  {
   "cell_type": "code",
   "execution_count": 152,
   "metadata": {},
   "outputs": [],
   "source": [
    "def vector_subset(v, L):\n",
    "    return vector([v[i] for i in L])\n",
    "\n",
    "def vector_nonzero_ith_component(d, i, e, f):\n",
    "    x = zero_vector(f, d)\n",
    "    x[i] = e\n",
    "    return x\n",
    "\n",
    "# p = 2\n",
    "def Stern(H, s, w, l):\n",
    "    m, n = H.dimensions()\n",
    "    assert(0 <= w <= n)\n",
    "    assert(s.length() == m) # m == n - k\n",
    "    assert(0 <= l <= m)\n",
    "    \n",
    "    k = n - m\n",
    "    f = H.base_ring()\n",
    "    # TODO: nonzero e!!\n",
    "    X1 = [vector_nonzero_ith_component(k // 2, i, e, f) for i in range(k // 2) for e in f]\n",
    "    \n",
    "    while True:\n",
    "        I = random.sample(range(0, n), k)\n",
    "        J = tuple(set(range(0, n)) - set(I))\n",
    "        H_I = H[:, I]\n",
    "        H_J = H[:, J]\n",
    "        \n",
    "        try:\n",
    "            H_J_inv = H_J.inverse()\n",
    "        except ZeroDivisionError:\n",
    "            continue\n",
    "            \n",
    "        s_ = H_J_inv * s\n",
    "        A_ = H_J_inv * H_I\n",
    "        L = random.sample(range(0, n - k), l)\n",
    "        A1 = A_[range(n - k - l, n - k), range(0, k // 2)]\n",
    "        A2 = A_[range(n - k - l, n - k), range(k // 2, k)]\n",
    "\n",
    "        L1, L2 = dict(), dict() \n",
    "        for x in X1:\n",
    "            L1[vector(vector_subset(s_, L) - A1 * x, immutable=True)] = x\n",
    "            L2[vector(A2 * x, immutable=True)] = x\n",
    "        # plus lent (deux itérations de X1) lorsque l'on prend un corps fini de grand cardinal (et/ou que la dimension du code est grand)\n",
    "        # L1 = {vector(vector_subset(s_, L) - A1 * x, immutable=True) : x for x in X1}\n",
    "        # L2 = {vector(A2 * x, immutable=True) : x for x in X1}\n",
    "        \n",
    "        for v, x1 in L1.items():\n",
    "            x2 = L2.get(v)\n",
    "            if x2 is not None:\n",
    "                x = vector(list(x1) + list(x2))\n",
    "                y = s_ - A_ * x\n",
    "                e = zero_vector(f, n)\n",
    "                for i, j in zip(range(k), I):\n",
    "                    e[j] = x[i]\n",
    "                for i, j in zip(range(n - k), J):\n",
    "                    e[j] = y[i]\n",
    "                if e.hamming_weight() <= w:\n",
    "                    return e"
   ]
  },
  {
   "cell_type": "code",
   "execution_count": 129,
   "metadata": {},
   "outputs": [],
   "source": [
    "import sage.coding\n",
    "C = codes.HammingCode(GF(3^3), 3)\n",
    "\n",
    "H = C.parity_check_matrix()"
   ]
  },
  {
   "cell_type": "code",
   "execution_count": 153,
   "metadata": {},
   "outputs": [
    {
     "name": "stdout",
     "output_type": "stream",
     "text": [
      "CPU times: user 7.83 s, sys: 3.89 ms, total: 7.83 s\n",
      "Wall time: 7.86 s\n"
     ]
    },
    {
     "data": {
      "text/plain": [
       "(0, 0, 0, 0, 0, 0, 0, 0, 0, 0, 0, 0, 0, 0, 0, 0, 0, 0, 0, 0, 0, 0, 0, 0, 0, 0, 0, 0, 0, 0, 0, 0, 0, 0, 0, 0, 0, 0, 0, 0, 0, 0, 0, 0, 0, 0, 0, 0, 0, 0, 0, 0, 0, 0, 0, 0, 0, 0, 0, 0, 0, 0, 0, 0, 0, 0, 0, 0, 0, 0, 0, 0, 0, 0, 0, 0, 0, 0, 0, 0, 0, 0, 0, 0, 0, 0, 0, 0, 0, 0, 0, 0, 0, 0, 0, 0, 0, 0, 0, 0, 0, 0, 0, 0, 0, 0, 0, 0, 0, 0, 0, 0, 0, 0, 0, 0, 0, 0, 0, 0, 0, 0, 0, 0, 0, 0, 0, 0, 0, 0, 0, 0, 0, 0, 0, 0, 0, 0, 0, 0, 0, 0, 0, 0, 0, 0, 0, 0, 0, 0, 0, 0, 0, 0, 0, 0, 0, 0, 0, 0, 0, 0, 0, 0, 0, 0, 0, 0, 0, 0, 0, 0, 0, 0, 0, 0, 0, 0, 0, 0, 0, 0, 0, 0, 0, 0, 0, 0, 0, 0, 0, 0, 0, 0, 0, 0, 0, 0, 0, 0, 0, 0, 0, 0, 0, 0, 0, 0, 0, 0, 0, 0, 0, 0, 0, 0, 0, 0, 0, 0, 0, 0, 0, 0, 0, 0, 0, 0, 0, 0, 0, 0, 0, 0, 0, 0, 0, 0, 0, 0, 0, z3^2 + 2*z3, 0, 0, 0, z3^2 + 2*z3 + 1, 0, 0, 0, 0, 0, 0, 0, 0, 0, 0, 0, 0, 0, 0, 0, 0, 0, 0, 0, 0, 0, 0, 0, 0, 0, 0, 0, 0, 0, 0, 0, 0, 0, 0, 0, 0, 0, 0, 0, 0, 0, 0, 0, 0, 0, 0, 0, 0, 0, 0, 0, 0, 0, 0, 0, 0, 0, 0, 0, 0, 0, 0, 0, 0, 0, 0, 0, 0, 0, 0, 0, 0, 0, 0, 0, 0, 0, 0, 0, 0, 0, 0, 0, 0, 0, 0, 0, 0, 0, 0, 0, 0, 0, 0, 0, 0, 0, 0, 0, 0, 0, 0, 0, 0, 0, 0, 0, 0, 0, 0, 0, 0, 0, 0, 0, 0, 0, 0, 0, 0, 0, 0, 0, 0, 0, 0, 0, 0, 0, 0, 0, 0, 0, 0, 0, 0, 0, 0, 0, 0, 0, 0, 0, 0, 0, 0, 0, 0, 0, 0, 0, 0, 0, 0, 0, 0, 0, 0, 0, 0, 0, z3^2 + 2*z3 + 1, 0, 0, 0, 0, 0, 0, 0, 0, 0, 0, 0, 0, 0, 0, 0, 0, 0, 0, 0, 0, 0, 0, 0, 0, 0, 0, 0, 0, 0, 0, 0, 0, 0, 0, 0, 0, 0, 0, 0, 0, 0, 0, 0, 0, 0, 0, 0, 0, 0, 0, 0, 0, 0, 0, 0, 0, 0, 0, 0, 0, 0, 0, 0, 0, 0, 0, 0, 0, 0, 0, 0, 0, 0, 0, 0, 0, 0, 0, 0, 0, 0, 0, 0, 0, 0, 0, 0, 0, 0, 0, 0, 0, 0, 0, 0, 0, 0, 0, 0, 0, 0, 0, 0, 0, 0, 0, 0, 0, 0, 0, 0, 0, 0, 0, 0, 0, 0, 0, 0, 0, 0, 0, 0, 0, 0, 0, 0, 0, 0, 0, 0, 0, 0, 0, 0, 0, 0, 0, 0, 0, 0, 0, 0, 0, 0, 0, 0, 0, 0, 0, 0, 0, 0, 0, 0, 0, 0, 0, 0, 0, 0, 0, 0, 0, 0, 0, 0, 0, 0, 0, 0, 0, 0, 0, 0, 0, 0, 0, 0, 0, 0, 0, 0, 0, 0, 0, 0, 0, 0, 0, 0, 0, 0, 0, 0, 0, 0, 0, 0, 0, 0, 0, 0, 0, 0, 0, 0, 0, 0, 0, 0, 0, 0, 0, 0, 0, 0, 0, 0, 0, 0, 0, 0, 0, 0, 0, 0, 0, 0, 0, 0, 0, 0, 0, 0, 0, 0, 0, 0, 0, 0, 0, 0, 0, 0, 0, 0, 0, 0, 0, 0, 0, 0, 0, 0, 0, 0, 0, 0, 0, 0, 0, 0, 0, 0, 0, 0, 0, 0, 0, 0, 0, 0, 0, 0, 0, 0, 0, 0, 0, 0, 0, 0, 0, 0, 0, 0, 0, 0, 0, 0, 0, 0, 0, 0, 0, 0, 0, 0, 0, 0, 0, 0, 0, 0, 0, 0, 0, 0, 0, 0, 0, 0, 0, 0, 0, 0, 0, 0, 0, 0, 0, 0, 0, 0, 0, 0, 0, 0, 0, 0, 0, 0, 0, 0, 0, 0, 0, 0, 0, 0, 0, 0, 0, 0, 0, 0, 0, 0)"
      ]
     },
     "execution_count": 153,
     "metadata": {},
     "output_type": "execute_result"
    }
   ],
   "source": [
    "%%time\n",
    "Stern(H, vector([2,0,0]), 10, 2)"
   ]
  },
  {
   "cell_type": "code",
   "execution_count": 5,
   "metadata": {},
   "outputs": [
    {
     "ename": "NameError",
     "evalue": "name 'lee_brickell' is not defined",
     "output_type": "error",
     "traceback": [
      "\u001b[0;31m---------------------------------------------------------------------------\u001b[0m",
      "\u001b[0;31mNameError\u001b[0m                                 Traceback (most recent call last)",
      "Input \u001b[0;32mIn [5]\u001b[0m, in \u001b[0;36m<module>\u001b[0;34m\u001b[0m\n\u001b[1;32m      6\u001b[0m l\u001b[38;5;241m=\u001b[39mRealNumber(\u001b[38;5;124m'\u001b[39m\u001b[38;5;124m2.\u001b[39m\u001b[38;5;124m'\u001b[39m)\n\u001b[1;32m      7\u001b[0m stern \u001b[38;5;241m=\u001b[39m \u001b[38;5;28;01mlambda\u001b[39;00m w: q\u001b[38;5;241m*\u001b[39m\u001b[38;5;241m*\u001b[39m(n \u001b[38;5;241m*\u001b[39m (\u001b[38;5;28mmin\u001b[39m(entropy(w, q), Integer(\u001b[38;5;241m1\u001b[39m)\u001b[38;5;241m-\u001b[39mR) \u001b[38;5;241m-\u001b[39m (R\u001b[38;5;241m/\u001b[39mInteger(\u001b[38;5;241m2\u001b[39m))\u001b[38;5;241m*\u001b[39mentropy((p\u001b[38;5;241m/\u001b[39mn)\u001b[38;5;241m/\u001b[39mR, q) \u001b[38;5;241m-\u001b[39m (Integer(\u001b[38;5;241m1\u001b[39m)\u001b[38;5;241m-\u001b[39mR\u001b[38;5;241m-\u001b[39ml\u001b[38;5;241m/\u001b[39mn) \u001b[38;5;241m*\u001b[39m entropy((w\u001b[38;5;241m-\u001b[39mp\u001b[38;5;241m/\u001b[39mn)\u001b[38;5;241m/\u001b[39m(Integer(\u001b[38;5;241m1\u001b[39m)\u001b[38;5;241m-\u001b[39mR\u001b[38;5;241m-\u001b[39m(l\u001b[38;5;241m/\u001b[39mn)), q)))\n\u001b[0;32m----> 9\u001b[0m P_S \u001b[38;5;241m=\u001b[39m line([(dGV(R),Integer(\u001b[38;5;241m0\u001b[39m)),(dGV(R),\u001b[43mlee_brickell\u001b[49m(dGV(R)))], color\u001b[38;5;241m=\u001b[39m\u001b[38;5;124m'\u001b[39m\u001b[38;5;124mblack\u001b[39m\u001b[38;5;124m'\u001b[39m, linestyle\u001b[38;5;241m=\u001b[39m\u001b[38;5;124m\"\u001b[39m\u001b[38;5;124m--\u001b[39m\u001b[38;5;124m\"\u001b[39m)\n\u001b[1;32m     10\u001b[0m P_S \u001b[38;5;241m+\u001b[39m\u001b[38;5;241m=\u001b[39m plot(stern, (Integer(\u001b[38;5;241m0\u001b[39m), RealNumber(\u001b[38;5;124m'\u001b[39m\u001b[38;5;124m.4\u001b[39m\u001b[38;5;124m'\u001b[39m)), color\u001b[38;5;241m=\u001b[39m\u001b[38;5;124m'\u001b[39m\u001b[38;5;124mred\u001b[39m\u001b[38;5;124m'\u001b[39m, legend_label\u001b[38;5;241m=\u001b[39m\u001b[38;5;124m'\u001b[39m\u001b[38;5;124mStern\u001b[39m\u001b[38;5;124m'\u001b[39m)\n\u001b[1;32m     11\u001b[0m P_S \u001b[38;5;241m+\u001b[39m\u001b[38;5;241m=\u001b[39m plot(lee_brickell, (Integer(\u001b[38;5;241m0\u001b[39m), RealNumber(\u001b[38;5;124m'\u001b[39m\u001b[38;5;124m.4\u001b[39m\u001b[38;5;124m'\u001b[39m)), color\u001b[38;5;241m=\u001b[39m\u001b[38;5;124m'\u001b[39m\u001b[38;5;124mgreen\u001b[39m\u001b[38;5;124m'\u001b[39m, legend_label\u001b[38;5;241m=\u001b[39m\u001b[38;5;124m'\u001b[39m\u001b[38;5;124mLee-Brickell\u001b[39m\u001b[38;5;124m'\u001b[39m)\n",
      "\u001b[0;31mNameError\u001b[0m: name 'lee_brickell' is not defined"
     ]
    }
   ],
   "source": [
    "q = 3^3\n",
    "R = 1/2\n",
    "n=100  # Augmenter n ne change pas le profil de la fonction f\n",
    "k = n / 2 # exemple de dimension\n",
    "p=2.\n",
    "l=2.\n",
    "stern = lambda w: q^(n * (min(entropy(w, q), 1-R) - (R/2)*entropy((p/n)/R, q) - (1-R-l/n) * entropy((w-p/n)/(1-R-(l/n)), q)))\n",
    "\n",
    "P_S = line([(dGV(R),0),(dGV(R),lee_brickell(dGV(R)))], color='black', linestyle=\"--\")\n",
    "P_S += plot(stern, (0, .4), color='red', legend_label='Stern')\n",
    "P_S += plot(lee_brickell, (0, .4), color='green', legend_label='Lee-Brickell')\n",
    "P_S += plot(prange, (0, .4),legend_label='Prange')\n",
    "P_S += text(\"$d_{GV}(R=1/2)$\", (dGV(R)+.045, 10^4), fontsize=12, color='black')\n",
    "# P.set_axes_range(ymin=0)\n",
    "P_S.axes_labels(['$w$', '$T$'])\n",
    "P_S.legend(True)\n",
    "\n",
    "# w = omega * n => w/n=omega donc omega tend vers 0 quand n tend vers l'infini\n",
    "P_S.show(scale='semilogy')"
   ]
  },
  {
   "cell_type": "code",
   "execution_count": 10,
   "metadata": {},
   "outputs": [],
   "source": [
    "P_S.save(\"Stern.pdf\",scale='semilogy')"
   ]
  },
  {
   "cell_type": "code",
   "execution_count": null,
   "metadata": {},
   "outputs": [],
   "source": []
  }
 ],
 "metadata": {
  "kernelspec": {
   "display_name": "SageMath 9.4",
   "language": "sage",
   "name": "sagemath"
  },
  "language_info": {
   "codemirror_mode": {
    "name": "ipython",
    "version": 3
   },
   "file_extension": ".py",
   "mimetype": "text/x-python",
   "name": "python",
   "nbconvert_exporter": "python",
   "pygments_lexer": "ipython3",
   "version": "3.10.4"
  }
 },
 "nbformat": 4,
 "nbformat_minor": 4
}
